{
 "cells": [
  {
   "cell_type": "markdown",
   "id": "b2948398-aa07-4fa5-bf3b-deab5d5f6128",
   "metadata": {},
   "source": [
    "## Stroke Risk Assessment Using Machine Learning: Modeling\n",
    "\n",
    "Strokes are a leading cause of death and disability globally, affecting millions of people each year. Even with all the progress we've made in medicine, accurately predicting the risk of stroke remains a challenge to date. This dataset is used to develop a predictive model that accurately assesses the risk of stroke in individuals based on various features like gender, age,bmi, heart disease, and others. Each row in the data provides relevant information about the patient."
   ]
  },
  {
   "cell_type": "code",
   "execution_count": 9,
   "id": "c110b6bd-106c-4114-9484-903acf37e573",
   "metadata": {},
   "outputs": [],
   "source": [
    "#Import all the necessary libraries\n",
    "import pandas as pd\n",
    "import numpy as np\n",
    "import matplotlib.pyplot as plt\n",
    "import seaborn as sns\n",
    "import os \n",
    "from sklearn.preprocessing import StandardScaler\n",
    "from sklearn.linear_model import LogisticRegression\n",
    "from sklearn.ensemble import RandomForestClassifier\n",
    "from sklearn.tree import DecisionTreeClassifier\n",
    "from sklearn.ensemble import GradientBoostingClassifier\n",
    "from sklearn.model_selection import train_test_split\n",
    "from sklearn.metrics import accuracy_score\n",
    "from sklearn.metrics import classification_report"
   ]
  },
  {
   "cell_type": "code",
   "execution_count": 10,
   "id": "eddab82a-add8-4d0b-8225-86db4a27154d",
   "metadata": {},
   "outputs": [],
   "source": [
    "#Loading the dataset\n",
    "file_path = '/Users/shubray/Desktop/healthcare-dataset-stroke-data.csv'\n",
    "stroke_data = pd.read_csv(file_path)"
   ]
  },
  {
   "cell_type": "code",
   "execution_count": 11,
   "id": "3fb9cc16-3f58-428f-bdac-db62c8ada955",
   "metadata": {},
   "outputs": [
    {
     "name": "stdout",
     "output_type": "stream",
     "text": [
      "<class 'pandas.core.frame.DataFrame'>\n",
      "RangeIndex: 5110 entries, 0 to 5109\n",
      "Data columns (total 12 columns):\n",
      " #   Column             Non-Null Count  Dtype  \n",
      "---  ------             --------------  -----  \n",
      " 0   id                 5110 non-null   int64  \n",
      " 1   gender             5110 non-null   object \n",
      " 2   age                5110 non-null   float64\n",
      " 3   hypertension       5110 non-null   int64  \n",
      " 4   heart_disease      5110 non-null   int64  \n",
      " 5   ever_married       5110 non-null   object \n",
      " 6   work_type          5110 non-null   object \n",
      " 7   Residence_type     5110 non-null   object \n",
      " 8   avg_glucose_level  5110 non-null   float64\n",
      " 9   bmi                4909 non-null   float64\n",
      " 10  smoking_status     5110 non-null   object \n",
      " 11  stroke             5110 non-null   int64  \n",
      "dtypes: float64(3), int64(4), object(5)\n",
      "memory usage: 479.2+ KB\n"
     ]
    }
   ],
   "source": [
    "# Summary of the dataset\n",
    "stroke_data.info()"
   ]
  },
  {
   "cell_type": "code",
   "execution_count": 12,
   "id": "76ad11a5-7106-4516-9e7b-60c2557d1848",
   "metadata": {},
   "outputs": [
    {
     "data": {
      "text/plain": [
       "id                     0\n",
       "gender                 0\n",
       "age                    0\n",
       "hypertension           0\n",
       "heart_disease          0\n",
       "ever_married           0\n",
       "work_type              0\n",
       "Residence_type         0\n",
       "avg_glucose_level      0\n",
       "bmi                  201\n",
       "smoking_status         0\n",
       "stroke                 0\n",
       "dtype: int64"
      ]
     },
     "execution_count": 12,
     "metadata": {},
     "output_type": "execute_result"
    }
   ],
   "source": [
    "# Summarizing the missing data count for each column\n",
    "stroke_data.isnull().sum()"
   ]
  },
  {
   "cell_type": "code",
   "execution_count": 13,
   "id": "ab70ba44-00b8-47e8-9f3c-6240bfc188da",
   "metadata": {},
   "outputs": [
    {
     "data": {
      "text/html": [
       "<div>\n",
       "<style scoped>\n",
       "    .dataframe tbody tr th:only-of-type {\n",
       "        vertical-align: middle;\n",
       "    }\n",
       "\n",
       "    .dataframe tbody tr th {\n",
       "        vertical-align: top;\n",
       "    }\n",
       "\n",
       "    .dataframe thead th {\n",
       "        text-align: right;\n",
       "    }\n",
       "</style>\n",
       "<table border=\"1\" class=\"dataframe\">\n",
       "  <thead>\n",
       "    <tr style=\"text-align: right;\">\n",
       "      <th></th>\n",
       "      <th>id</th>\n",
       "      <th>gender</th>\n",
       "      <th>age</th>\n",
       "      <th>hypertension</th>\n",
       "      <th>heart_disease</th>\n",
       "      <th>ever_married</th>\n",
       "      <th>work_type</th>\n",
       "      <th>Residence_type</th>\n",
       "      <th>avg_glucose_level</th>\n",
       "      <th>bmi</th>\n",
       "      <th>smoking_status</th>\n",
       "      <th>stroke</th>\n",
       "    </tr>\n",
       "  </thead>\n",
       "  <tbody>\n",
       "    <tr>\n",
       "      <th>0</th>\n",
       "      <td>9046</td>\n",
       "      <td>Male</td>\n",
       "      <td>67.0</td>\n",
       "      <td>0</td>\n",
       "      <td>1</td>\n",
       "      <td>Yes</td>\n",
       "      <td>Private</td>\n",
       "      <td>Urban</td>\n",
       "      <td>228.69</td>\n",
       "      <td>36.6</td>\n",
       "      <td>formerly smoked</td>\n",
       "      <td>1</td>\n",
       "    </tr>\n",
       "    <tr>\n",
       "      <th>1</th>\n",
       "      <td>51676</td>\n",
       "      <td>Female</td>\n",
       "      <td>61.0</td>\n",
       "      <td>0</td>\n",
       "      <td>0</td>\n",
       "      <td>Yes</td>\n",
       "      <td>Self-employed</td>\n",
       "      <td>Rural</td>\n",
       "      <td>202.21</td>\n",
       "      <td>NaN</td>\n",
       "      <td>never smoked</td>\n",
       "      <td>1</td>\n",
       "    </tr>\n",
       "    <tr>\n",
       "      <th>2</th>\n",
       "      <td>31112</td>\n",
       "      <td>Male</td>\n",
       "      <td>80.0</td>\n",
       "      <td>0</td>\n",
       "      <td>1</td>\n",
       "      <td>Yes</td>\n",
       "      <td>Private</td>\n",
       "      <td>Rural</td>\n",
       "      <td>105.92</td>\n",
       "      <td>32.5</td>\n",
       "      <td>never smoked</td>\n",
       "      <td>1</td>\n",
       "    </tr>\n",
       "    <tr>\n",
       "      <th>3</th>\n",
       "      <td>60182</td>\n",
       "      <td>Female</td>\n",
       "      <td>49.0</td>\n",
       "      <td>0</td>\n",
       "      <td>0</td>\n",
       "      <td>Yes</td>\n",
       "      <td>Private</td>\n",
       "      <td>Urban</td>\n",
       "      <td>171.23</td>\n",
       "      <td>34.4</td>\n",
       "      <td>smokes</td>\n",
       "      <td>1</td>\n",
       "    </tr>\n",
       "    <tr>\n",
       "      <th>4</th>\n",
       "      <td>1665</td>\n",
       "      <td>Female</td>\n",
       "      <td>79.0</td>\n",
       "      <td>1</td>\n",
       "      <td>0</td>\n",
       "      <td>Yes</td>\n",
       "      <td>Self-employed</td>\n",
       "      <td>Rural</td>\n",
       "      <td>174.12</td>\n",
       "      <td>24.0</td>\n",
       "      <td>never smoked</td>\n",
       "      <td>1</td>\n",
       "    </tr>\n",
       "  </tbody>\n",
       "</table>\n",
       "</div>"
      ],
      "text/plain": [
       "      id  gender   age  hypertension  heart_disease ever_married  \\\n",
       "0   9046    Male  67.0             0              1          Yes   \n",
       "1  51676  Female  61.0             0              0          Yes   \n",
       "2  31112    Male  80.0             0              1          Yes   \n",
       "3  60182  Female  49.0             0              0          Yes   \n",
       "4   1665  Female  79.0             1              0          Yes   \n",
       "\n",
       "       work_type Residence_type  avg_glucose_level   bmi   smoking_status  \\\n",
       "0        Private          Urban             228.69  36.6  formerly smoked   \n",
       "1  Self-employed          Rural             202.21   NaN     never smoked   \n",
       "2        Private          Rural             105.92  32.5     never smoked   \n",
       "3        Private          Urban             171.23  34.4           smokes   \n",
       "4  Self-employed          Rural             174.12  24.0     never smoked   \n",
       "\n",
       "   stroke  \n",
       "0       1  \n",
       "1       1  \n",
       "2       1  \n",
       "3       1  \n",
       "4       1  "
      ]
     },
     "execution_count": 13,
     "metadata": {},
     "output_type": "execute_result"
    }
   ],
   "source": [
    "stroke_data.head()"
   ]
  },
  {
   "cell_type": "code",
   "execution_count": 14,
   "id": "e642ef4f-dafe-4473-b5a1-485ea086793c",
   "metadata": {},
   "outputs": [
    {
     "data": {
      "text/plain": [
       "id                     0\n",
       "gender                 0\n",
       "age                    0\n",
       "hypertension           0\n",
       "heart_disease          0\n",
       "ever_married           0\n",
       "work_type              0\n",
       "Residence_type         0\n",
       "avg_glucose_level      0\n",
       "bmi                  201\n",
       "smoking_status         0\n",
       "stroke                 0\n",
       "dtype: int64"
      ]
     },
     "execution_count": 14,
     "metadata": {},
     "output_type": "execute_result"
    }
   ],
   "source": [
    "stroke_data.isnull().sum()"
   ]
  },
  {
   "cell_type": "code",
   "execution_count": 15,
   "id": "245a5daf-c60a-4de3-bec7-afdc3544f2dc",
   "metadata": {},
   "outputs": [],
   "source": [
    "# Handling the missing value\n",
    "stroke_data[\"bmi\"]=stroke_data[\"bmi\"].fillna(stroke_data[\"bmi\"].mean())"
   ]
  },
  {
   "cell_type": "code",
   "execution_count": 16,
   "id": "bf822949-11e9-4470-9512-ebb2aac59db4",
   "metadata": {},
   "outputs": [
    {
     "data": {
      "text/plain": [
       "id                   0\n",
       "gender               0\n",
       "age                  0\n",
       "hypertension         0\n",
       "heart_disease        0\n",
       "ever_married         0\n",
       "work_type            0\n",
       "Residence_type       0\n",
       "avg_glucose_level    0\n",
       "bmi                  0\n",
       "smoking_status       0\n",
       "stroke               0\n",
       "dtype: int64"
      ]
     },
     "execution_count": 16,
     "metadata": {},
     "output_type": "execute_result"
    }
   ],
   "source": [
    "stroke_data.isnull().sum()"
   ]
  },
  {
   "cell_type": "code",
   "execution_count": 17,
   "id": "cb590ba7-2fcf-4665-aa87-d73983b433af",
   "metadata": {},
   "outputs": [
    {
     "data": {
      "text/html": [
       "<div>\n",
       "<style scoped>\n",
       "    .dataframe tbody tr th:only-of-type {\n",
       "        vertical-align: middle;\n",
       "    }\n",
       "\n",
       "    .dataframe tbody tr th {\n",
       "        vertical-align: top;\n",
       "    }\n",
       "\n",
       "    .dataframe thead th {\n",
       "        text-align: right;\n",
       "    }\n",
       "</style>\n",
       "<table border=\"1\" class=\"dataframe\">\n",
       "  <thead>\n",
       "    <tr style=\"text-align: right;\">\n",
       "      <th></th>\n",
       "      <th>gender</th>\n",
       "      <th>age</th>\n",
       "      <th>hypertension</th>\n",
       "      <th>heart_disease</th>\n",
       "      <th>ever_married</th>\n",
       "      <th>work_type</th>\n",
       "      <th>Residence_type</th>\n",
       "      <th>avg_glucose_level</th>\n",
       "      <th>bmi</th>\n",
       "      <th>smoking_status</th>\n",
       "      <th>stroke</th>\n",
       "    </tr>\n",
       "  </thead>\n",
       "  <tbody>\n",
       "    <tr>\n",
       "      <th>0</th>\n",
       "      <td>Male</td>\n",
       "      <td>67.0</td>\n",
       "      <td>0</td>\n",
       "      <td>1</td>\n",
       "      <td>Yes</td>\n",
       "      <td>Private</td>\n",
       "      <td>Urban</td>\n",
       "      <td>228.69</td>\n",
       "      <td>36.600000</td>\n",
       "      <td>formerly smoked</td>\n",
       "      <td>1</td>\n",
       "    </tr>\n",
       "    <tr>\n",
       "      <th>1</th>\n",
       "      <td>Female</td>\n",
       "      <td>61.0</td>\n",
       "      <td>0</td>\n",
       "      <td>0</td>\n",
       "      <td>Yes</td>\n",
       "      <td>Self-employed</td>\n",
       "      <td>Rural</td>\n",
       "      <td>202.21</td>\n",
       "      <td>28.893237</td>\n",
       "      <td>never smoked</td>\n",
       "      <td>1</td>\n",
       "    </tr>\n",
       "    <tr>\n",
       "      <th>2</th>\n",
       "      <td>Male</td>\n",
       "      <td>80.0</td>\n",
       "      <td>0</td>\n",
       "      <td>1</td>\n",
       "      <td>Yes</td>\n",
       "      <td>Private</td>\n",
       "      <td>Rural</td>\n",
       "      <td>105.92</td>\n",
       "      <td>32.500000</td>\n",
       "      <td>never smoked</td>\n",
       "      <td>1</td>\n",
       "    </tr>\n",
       "    <tr>\n",
       "      <th>3</th>\n",
       "      <td>Female</td>\n",
       "      <td>49.0</td>\n",
       "      <td>0</td>\n",
       "      <td>0</td>\n",
       "      <td>Yes</td>\n",
       "      <td>Private</td>\n",
       "      <td>Urban</td>\n",
       "      <td>171.23</td>\n",
       "      <td>34.400000</td>\n",
       "      <td>smokes</td>\n",
       "      <td>1</td>\n",
       "    </tr>\n",
       "    <tr>\n",
       "      <th>4</th>\n",
       "      <td>Female</td>\n",
       "      <td>79.0</td>\n",
       "      <td>1</td>\n",
       "      <td>0</td>\n",
       "      <td>Yes</td>\n",
       "      <td>Self-employed</td>\n",
       "      <td>Rural</td>\n",
       "      <td>174.12</td>\n",
       "      <td>24.000000</td>\n",
       "      <td>never smoked</td>\n",
       "      <td>1</td>\n",
       "    </tr>\n",
       "    <tr>\n",
       "      <th>...</th>\n",
       "      <td>...</td>\n",
       "      <td>...</td>\n",
       "      <td>...</td>\n",
       "      <td>...</td>\n",
       "      <td>...</td>\n",
       "      <td>...</td>\n",
       "      <td>...</td>\n",
       "      <td>...</td>\n",
       "      <td>...</td>\n",
       "      <td>...</td>\n",
       "      <td>...</td>\n",
       "    </tr>\n",
       "    <tr>\n",
       "      <th>5105</th>\n",
       "      <td>Female</td>\n",
       "      <td>80.0</td>\n",
       "      <td>1</td>\n",
       "      <td>0</td>\n",
       "      <td>Yes</td>\n",
       "      <td>Private</td>\n",
       "      <td>Urban</td>\n",
       "      <td>83.75</td>\n",
       "      <td>28.893237</td>\n",
       "      <td>never smoked</td>\n",
       "      <td>0</td>\n",
       "    </tr>\n",
       "    <tr>\n",
       "      <th>5106</th>\n",
       "      <td>Female</td>\n",
       "      <td>81.0</td>\n",
       "      <td>0</td>\n",
       "      <td>0</td>\n",
       "      <td>Yes</td>\n",
       "      <td>Self-employed</td>\n",
       "      <td>Urban</td>\n",
       "      <td>125.20</td>\n",
       "      <td>40.000000</td>\n",
       "      <td>never smoked</td>\n",
       "      <td>0</td>\n",
       "    </tr>\n",
       "    <tr>\n",
       "      <th>5107</th>\n",
       "      <td>Female</td>\n",
       "      <td>35.0</td>\n",
       "      <td>0</td>\n",
       "      <td>0</td>\n",
       "      <td>Yes</td>\n",
       "      <td>Self-employed</td>\n",
       "      <td>Rural</td>\n",
       "      <td>82.99</td>\n",
       "      <td>30.600000</td>\n",
       "      <td>never smoked</td>\n",
       "      <td>0</td>\n",
       "    </tr>\n",
       "    <tr>\n",
       "      <th>5108</th>\n",
       "      <td>Male</td>\n",
       "      <td>51.0</td>\n",
       "      <td>0</td>\n",
       "      <td>0</td>\n",
       "      <td>Yes</td>\n",
       "      <td>Private</td>\n",
       "      <td>Rural</td>\n",
       "      <td>166.29</td>\n",
       "      <td>25.600000</td>\n",
       "      <td>formerly smoked</td>\n",
       "      <td>0</td>\n",
       "    </tr>\n",
       "    <tr>\n",
       "      <th>5109</th>\n",
       "      <td>Female</td>\n",
       "      <td>44.0</td>\n",
       "      <td>0</td>\n",
       "      <td>0</td>\n",
       "      <td>Yes</td>\n",
       "      <td>Govt_job</td>\n",
       "      <td>Urban</td>\n",
       "      <td>85.28</td>\n",
       "      <td>26.200000</td>\n",
       "      <td>Unknown</td>\n",
       "      <td>0</td>\n",
       "    </tr>\n",
       "  </tbody>\n",
       "</table>\n",
       "<p>5110 rows × 11 columns</p>\n",
       "</div>"
      ],
      "text/plain": [
       "      gender   age  hypertension  heart_disease ever_married      work_type  \\\n",
       "0       Male  67.0             0              1          Yes        Private   \n",
       "1     Female  61.0             0              0          Yes  Self-employed   \n",
       "2       Male  80.0             0              1          Yes        Private   \n",
       "3     Female  49.0             0              0          Yes        Private   \n",
       "4     Female  79.0             1              0          Yes  Self-employed   \n",
       "...      ...   ...           ...            ...          ...            ...   \n",
       "5105  Female  80.0             1              0          Yes        Private   \n",
       "5106  Female  81.0             0              0          Yes  Self-employed   \n",
       "5107  Female  35.0             0              0          Yes  Self-employed   \n",
       "5108    Male  51.0             0              0          Yes        Private   \n",
       "5109  Female  44.0             0              0          Yes       Govt_job   \n",
       "\n",
       "     Residence_type  avg_glucose_level        bmi   smoking_status  stroke  \n",
       "0             Urban             228.69  36.600000  formerly smoked       1  \n",
       "1             Rural             202.21  28.893237     never smoked       1  \n",
       "2             Rural             105.92  32.500000     never smoked       1  \n",
       "3             Urban             171.23  34.400000           smokes       1  \n",
       "4             Rural             174.12  24.000000     never smoked       1  \n",
       "...             ...                ...        ...              ...     ...  \n",
       "5105          Urban              83.75  28.893237     never smoked       0  \n",
       "5106          Urban             125.20  40.000000     never smoked       0  \n",
       "5107          Rural              82.99  30.600000     never smoked       0  \n",
       "5108          Rural             166.29  25.600000  formerly smoked       0  \n",
       "5109          Urban              85.28  26.200000          Unknown       0  \n",
       "\n",
       "[5110 rows x 11 columns]"
      ]
     },
     "execution_count": 17,
     "metadata": {},
     "output_type": "execute_result"
    }
   ],
   "source": [
    "#Dropping irrelevant id column\n",
    "train= stroke_data.drop(['id'],axis=1)\n",
    "train"
   ]
  },
  {
   "cell_type": "code",
   "execution_count": 18,
   "id": "5e1c1f52-78c4-42c8-a76c-ba9dc3b51cb3",
   "metadata": {},
   "outputs": [
    {
     "data": {
      "text/plain": [
       "Index(['gender', 'age', 'hypertension', 'heart_disease', 'ever_married',\n",
       "       'work_type', 'Residence_type', 'avg_glucose_level', 'bmi',\n",
       "       'smoking_status', 'stroke'],\n",
       "      dtype='object')"
      ]
     },
     "execution_count": 18,
     "metadata": {},
     "output_type": "execute_result"
    }
   ],
   "source": [
    "train.columns"
   ]
  },
  {
   "cell_type": "code",
   "execution_count": 19,
   "id": "7ca7d5b4-69c8-4bc8-bcba-ba865be7ee06",
   "metadata": {},
   "outputs": [],
   "source": [
    "train_data_cat = train.select_dtypes(\"object\")\n",
    "train_data_num = train.select_dtypes(\"number\")"
   ]
  },
  {
   "cell_type": "markdown",
   "id": "1fc608aa-b4a1-49f5-982d-2d296f4a23de",
   "metadata": {},
   "source": [
    "## Converting Categorical Features into Numerical using One-Hot Encoding\n"
   ]
  },
  {
   "cell_type": "code",
   "execution_count": 21,
   "id": "17f48da6-7716-462f-ac7b-94e45c780ec3",
   "metadata": {},
   "outputs": [
    {
     "data": {
      "text/html": [
       "<div>\n",
       "<style scoped>\n",
       "    .dataframe tbody tr th:only-of-type {\n",
       "        vertical-align: middle;\n",
       "    }\n",
       "\n",
       "    .dataframe tbody tr th {\n",
       "        vertical-align: top;\n",
       "    }\n",
       "\n",
       "    .dataframe thead th {\n",
       "        text-align: right;\n",
       "    }\n",
       "</style>\n",
       "<table border=\"1\" class=\"dataframe\">\n",
       "  <thead>\n",
       "    <tr style=\"text-align: right;\">\n",
       "      <th></th>\n",
       "      <th>gender_Female</th>\n",
       "      <th>gender_Male</th>\n",
       "      <th>gender_Other</th>\n",
       "      <th>ever_married_No</th>\n",
       "      <th>ever_married_Yes</th>\n",
       "      <th>work_type_Govt_job</th>\n",
       "      <th>work_type_Never_worked</th>\n",
       "      <th>work_type_Private</th>\n",
       "      <th>work_type_Self-employed</th>\n",
       "      <th>work_type_children</th>\n",
       "      <th>Residence_type_Rural</th>\n",
       "      <th>Residence_type_Urban</th>\n",
       "      <th>smoking_status_Unknown</th>\n",
       "      <th>smoking_status_formerly smoked</th>\n",
       "      <th>smoking_status_never smoked</th>\n",
       "      <th>smoking_status_smokes</th>\n",
       "    </tr>\n",
       "  </thead>\n",
       "  <tbody>\n",
       "    <tr>\n",
       "      <th>0</th>\n",
       "      <td>0</td>\n",
       "      <td>1</td>\n",
       "      <td>0</td>\n",
       "      <td>0</td>\n",
       "      <td>1</td>\n",
       "      <td>0</td>\n",
       "      <td>0</td>\n",
       "      <td>1</td>\n",
       "      <td>0</td>\n",
       "      <td>0</td>\n",
       "      <td>0</td>\n",
       "      <td>1</td>\n",
       "      <td>0</td>\n",
       "      <td>1</td>\n",
       "      <td>0</td>\n",
       "      <td>0</td>\n",
       "    </tr>\n",
       "    <tr>\n",
       "      <th>1</th>\n",
       "      <td>1</td>\n",
       "      <td>0</td>\n",
       "      <td>0</td>\n",
       "      <td>0</td>\n",
       "      <td>1</td>\n",
       "      <td>0</td>\n",
       "      <td>0</td>\n",
       "      <td>0</td>\n",
       "      <td>1</td>\n",
       "      <td>0</td>\n",
       "      <td>1</td>\n",
       "      <td>0</td>\n",
       "      <td>0</td>\n",
       "      <td>0</td>\n",
       "      <td>1</td>\n",
       "      <td>0</td>\n",
       "    </tr>\n",
       "    <tr>\n",
       "      <th>2</th>\n",
       "      <td>0</td>\n",
       "      <td>1</td>\n",
       "      <td>0</td>\n",
       "      <td>0</td>\n",
       "      <td>1</td>\n",
       "      <td>0</td>\n",
       "      <td>0</td>\n",
       "      <td>1</td>\n",
       "      <td>0</td>\n",
       "      <td>0</td>\n",
       "      <td>1</td>\n",
       "      <td>0</td>\n",
       "      <td>0</td>\n",
       "      <td>0</td>\n",
       "      <td>1</td>\n",
       "      <td>0</td>\n",
       "    </tr>\n",
       "    <tr>\n",
       "      <th>3</th>\n",
       "      <td>1</td>\n",
       "      <td>0</td>\n",
       "      <td>0</td>\n",
       "      <td>0</td>\n",
       "      <td>1</td>\n",
       "      <td>0</td>\n",
       "      <td>0</td>\n",
       "      <td>1</td>\n",
       "      <td>0</td>\n",
       "      <td>0</td>\n",
       "      <td>0</td>\n",
       "      <td>1</td>\n",
       "      <td>0</td>\n",
       "      <td>0</td>\n",
       "      <td>0</td>\n",
       "      <td>1</td>\n",
       "    </tr>\n",
       "    <tr>\n",
       "      <th>4</th>\n",
       "      <td>1</td>\n",
       "      <td>0</td>\n",
       "      <td>0</td>\n",
       "      <td>0</td>\n",
       "      <td>1</td>\n",
       "      <td>0</td>\n",
       "      <td>0</td>\n",
       "      <td>0</td>\n",
       "      <td>1</td>\n",
       "      <td>0</td>\n",
       "      <td>1</td>\n",
       "      <td>0</td>\n",
       "      <td>0</td>\n",
       "      <td>0</td>\n",
       "      <td>1</td>\n",
       "      <td>0</td>\n",
       "    </tr>\n",
       "  </tbody>\n",
       "</table>\n",
       "</div>"
      ],
      "text/plain": [
       "   gender_Female  gender_Male  gender_Other  ever_married_No  \\\n",
       "0              0            1             0                0   \n",
       "1              1            0             0                0   \n",
       "2              0            1             0                0   \n",
       "3              1            0             0                0   \n",
       "4              1            0             0                0   \n",
       "\n",
       "   ever_married_Yes  work_type_Govt_job  work_type_Never_worked  \\\n",
       "0                 1                   0                       0   \n",
       "1                 1                   0                       0   \n",
       "2                 1                   0                       0   \n",
       "3                 1                   0                       0   \n",
       "4                 1                   0                       0   \n",
       "\n",
       "   work_type_Private  work_type_Self-employed  work_type_children  \\\n",
       "0                  1                        0                   0   \n",
       "1                  0                        1                   0   \n",
       "2                  1                        0                   0   \n",
       "3                  1                        0                   0   \n",
       "4                  0                        1                   0   \n",
       "\n",
       "   Residence_type_Rural  Residence_type_Urban  smoking_status_Unknown  \\\n",
       "0                     0                     1                       0   \n",
       "1                     1                     0                       0   \n",
       "2                     1                     0                       0   \n",
       "3                     0                     1                       0   \n",
       "4                     1                     0                       0   \n",
       "\n",
       "   smoking_status_formerly smoked  smoking_status_never smoked  \\\n",
       "0                               1                            0   \n",
       "1                               0                            1   \n",
       "2                               0                            1   \n",
       "3                               0                            0   \n",
       "4                               0                            1   \n",
       "\n",
       "   smoking_status_smokes  \n",
       "0                      0  \n",
       "1                      0  \n",
       "2                      0  \n",
       "3                      1  \n",
       "4                      0  "
      ]
     },
     "execution_count": 21,
     "metadata": {},
     "output_type": "execute_result"
    }
   ],
   "source": [
    "# One-Hot Encoding the categorical variables\n",
    "# This converts categorical variables into binary columns\n",
    "train_data_cat_encoded=pd.get_dummies(train_data_cat, columns=train_data_cat.columns.to_list())\n",
    "train_data_cat_encoded.astype(int).head()"
   ]
  },
  {
   "cell_type": "code",
   "execution_count": 22,
   "id": "4ff6997e-a1a2-4f91-a63a-491901ae848d",
   "metadata": {},
   "outputs": [
    {
     "data": {
      "text/html": [
       "<div>\n",
       "<style scoped>\n",
       "    .dataframe tbody tr th:only-of-type {\n",
       "        vertical-align: middle;\n",
       "    }\n",
       "\n",
       "    .dataframe tbody tr th {\n",
       "        vertical-align: top;\n",
       "    }\n",
       "\n",
       "    .dataframe thead th {\n",
       "        text-align: right;\n",
       "    }\n",
       "</style>\n",
       "<table border=\"1\" class=\"dataframe\">\n",
       "  <thead>\n",
       "    <tr style=\"text-align: right;\">\n",
       "      <th></th>\n",
       "      <th>gender_Female</th>\n",
       "      <th>gender_Male</th>\n",
       "      <th>gender_Other</th>\n",
       "      <th>ever_married_No</th>\n",
       "      <th>ever_married_Yes</th>\n",
       "      <th>work_type_Govt_job</th>\n",
       "      <th>work_type_Never_worked</th>\n",
       "      <th>work_type_Private</th>\n",
       "      <th>work_type_Self-employed</th>\n",
       "      <th>work_type_children</th>\n",
       "      <th>...</th>\n",
       "      <th>smoking_status_Unknown</th>\n",
       "      <th>smoking_status_formerly smoked</th>\n",
       "      <th>smoking_status_never smoked</th>\n",
       "      <th>smoking_status_smokes</th>\n",
       "      <th>age</th>\n",
       "      <th>hypertension</th>\n",
       "      <th>heart_disease</th>\n",
       "      <th>avg_glucose_level</th>\n",
       "      <th>bmi</th>\n",
       "      <th>stroke</th>\n",
       "    </tr>\n",
       "  </thead>\n",
       "  <tbody>\n",
       "    <tr>\n",
       "      <th>0</th>\n",
       "      <td>0</td>\n",
       "      <td>1</td>\n",
       "      <td>0</td>\n",
       "      <td>0</td>\n",
       "      <td>1</td>\n",
       "      <td>0</td>\n",
       "      <td>0</td>\n",
       "      <td>1</td>\n",
       "      <td>0</td>\n",
       "      <td>0</td>\n",
       "      <td>...</td>\n",
       "      <td>0</td>\n",
       "      <td>1</td>\n",
       "      <td>0</td>\n",
       "      <td>0</td>\n",
       "      <td>67</td>\n",
       "      <td>0</td>\n",
       "      <td>1</td>\n",
       "      <td>228</td>\n",
       "      <td>36</td>\n",
       "      <td>1</td>\n",
       "    </tr>\n",
       "    <tr>\n",
       "      <th>1</th>\n",
       "      <td>1</td>\n",
       "      <td>0</td>\n",
       "      <td>0</td>\n",
       "      <td>0</td>\n",
       "      <td>1</td>\n",
       "      <td>0</td>\n",
       "      <td>0</td>\n",
       "      <td>0</td>\n",
       "      <td>1</td>\n",
       "      <td>0</td>\n",
       "      <td>...</td>\n",
       "      <td>0</td>\n",
       "      <td>0</td>\n",
       "      <td>1</td>\n",
       "      <td>0</td>\n",
       "      <td>61</td>\n",
       "      <td>0</td>\n",
       "      <td>0</td>\n",
       "      <td>202</td>\n",
       "      <td>28</td>\n",
       "      <td>1</td>\n",
       "    </tr>\n",
       "    <tr>\n",
       "      <th>2</th>\n",
       "      <td>0</td>\n",
       "      <td>1</td>\n",
       "      <td>0</td>\n",
       "      <td>0</td>\n",
       "      <td>1</td>\n",
       "      <td>0</td>\n",
       "      <td>0</td>\n",
       "      <td>1</td>\n",
       "      <td>0</td>\n",
       "      <td>0</td>\n",
       "      <td>...</td>\n",
       "      <td>0</td>\n",
       "      <td>0</td>\n",
       "      <td>1</td>\n",
       "      <td>0</td>\n",
       "      <td>80</td>\n",
       "      <td>0</td>\n",
       "      <td>1</td>\n",
       "      <td>105</td>\n",
       "      <td>32</td>\n",
       "      <td>1</td>\n",
       "    </tr>\n",
       "    <tr>\n",
       "      <th>3</th>\n",
       "      <td>1</td>\n",
       "      <td>0</td>\n",
       "      <td>0</td>\n",
       "      <td>0</td>\n",
       "      <td>1</td>\n",
       "      <td>0</td>\n",
       "      <td>0</td>\n",
       "      <td>1</td>\n",
       "      <td>0</td>\n",
       "      <td>0</td>\n",
       "      <td>...</td>\n",
       "      <td>0</td>\n",
       "      <td>0</td>\n",
       "      <td>0</td>\n",
       "      <td>1</td>\n",
       "      <td>49</td>\n",
       "      <td>0</td>\n",
       "      <td>0</td>\n",
       "      <td>171</td>\n",
       "      <td>34</td>\n",
       "      <td>1</td>\n",
       "    </tr>\n",
       "    <tr>\n",
       "      <th>4</th>\n",
       "      <td>1</td>\n",
       "      <td>0</td>\n",
       "      <td>0</td>\n",
       "      <td>0</td>\n",
       "      <td>1</td>\n",
       "      <td>0</td>\n",
       "      <td>0</td>\n",
       "      <td>0</td>\n",
       "      <td>1</td>\n",
       "      <td>0</td>\n",
       "      <td>...</td>\n",
       "      <td>0</td>\n",
       "      <td>0</td>\n",
       "      <td>1</td>\n",
       "      <td>0</td>\n",
       "      <td>79</td>\n",
       "      <td>1</td>\n",
       "      <td>0</td>\n",
       "      <td>174</td>\n",
       "      <td>24</td>\n",
       "      <td>1</td>\n",
       "    </tr>\n",
       "  </tbody>\n",
       "</table>\n",
       "<p>5 rows × 22 columns</p>\n",
       "</div>"
      ],
      "text/plain": [
       "   gender_Female  gender_Male  gender_Other  ever_married_No  \\\n",
       "0              0            1             0                0   \n",
       "1              1            0             0                0   \n",
       "2              0            1             0                0   \n",
       "3              1            0             0                0   \n",
       "4              1            0             0                0   \n",
       "\n",
       "   ever_married_Yes  work_type_Govt_job  work_type_Never_worked  \\\n",
       "0                 1                   0                       0   \n",
       "1                 1                   0                       0   \n",
       "2                 1                   0                       0   \n",
       "3                 1                   0                       0   \n",
       "4                 1                   0                       0   \n",
       "\n",
       "   work_type_Private  work_type_Self-employed  work_type_children  ...  \\\n",
       "0                  1                        0                   0  ...   \n",
       "1                  0                        1                   0  ...   \n",
       "2                  1                        0                   0  ...   \n",
       "3                  1                        0                   0  ...   \n",
       "4                  0                        1                   0  ...   \n",
       "\n",
       "   smoking_status_Unknown  smoking_status_formerly smoked  \\\n",
       "0                       0                               1   \n",
       "1                       0                               0   \n",
       "2                       0                               0   \n",
       "3                       0                               0   \n",
       "4                       0                               0   \n",
       "\n",
       "   smoking_status_never smoked  smoking_status_smokes  age  hypertension  \\\n",
       "0                            0                      0   67             0   \n",
       "1                            1                      0   61             0   \n",
       "2                            1                      0   80             0   \n",
       "3                            0                      1   49             0   \n",
       "4                            1                      0   79             1   \n",
       "\n",
       "   heart_disease  avg_glucose_level  bmi  stroke  \n",
       "0              1                228   36       1  \n",
       "1              0                202   28       1  \n",
       "2              1                105   32       1  \n",
       "3              0                171   34       1  \n",
       "4              0                174   24       1  \n",
       "\n",
       "[5 rows x 22 columns]"
      ]
     },
     "execution_count": 22,
     "metadata": {},
     "output_type": "execute_result"
    }
   ],
   "source": [
    "# Concatenating the encoded categorical data with numerical data\n",
    "data=pd.concat([train_data_cat_encoded,train_data_num],axis=1,join=\"outer\")\n",
    "\n",
    "# Convert boolean columns (True/False) to 0 and 1\n",
    "data = data.astype(int)\n",
    "data.head()"
   ]
  },
  {
   "cell_type": "markdown",
   "id": "f0de231f-e1e0-49d2-b1c2-2ea6075e3cbc",
   "metadata": {},
   "source": [
    "## Separating dependant and independant features"
   ]
  },
  {
   "cell_type": "code",
   "execution_count": 24,
   "id": "f50b3fbd-e3d5-4288-9751-fc4ab17e4a9a",
   "metadata": {},
   "outputs": [],
   "source": [
    "y = data['stroke'] # Dependent feature (target)\n",
    "x = data.drop('stroke', axis = 1) # Independent features (predictors)"
   ]
  },
  {
   "cell_type": "code",
   "execution_count": 25,
   "id": "856fcc50-6619-46fa-aaf0-882c7ffe3eda",
   "metadata": {},
   "outputs": [
    {
     "name": "stdout",
     "output_type": "stream",
     "text": [
      "(5110, 21)\n",
      "(5110,)\n"
     ]
    }
   ],
   "source": [
    "print(x.shape)\n",
    "print(y.shape)"
   ]
  },
  {
   "cell_type": "code",
   "execution_count": 26,
   "id": "ef069c51-de46-4d53-bfa8-04f0e37e1fa0",
   "metadata": {},
   "outputs": [
    {
     "data": {
      "text/plain": [
       "array([[-1.18950991,  1.18998977, -0.01399046, ...,  4.18503199,\n",
       "         2.70243779,  0.98456631],\n",
       "       [ 0.84068236, -0.84034336, -0.01399046, ..., -0.2389468 ,\n",
       "         2.12811691, -0.05605292],\n",
       "       [-1.18950991,  1.18998977, -0.01399046, ...,  4.18503199,\n",
       "        -0.01454174,  0.46425669],\n",
       "       ...,\n",
       "       [ 0.84068236, -0.84034336, -0.01399046, ..., -0.2389468 ,\n",
       "        -0.52259482,  0.20410188],\n",
       "       [-1.18950991,  1.18998977, -0.01399046, ..., -0.2389468 ,\n",
       "         1.33290339, -0.44628514],\n",
       "       [ 0.84068236, -0.84034336, -0.01399046, ..., -0.2389468 ,\n",
       "        -0.45632703, -0.31620773]])"
      ]
     },
     "execution_count": 26,
     "metadata": {},
     "output_type": "execute_result"
    }
   ],
   "source": [
    "# Scaling with StandardScaler\n",
    "sc = StandardScaler()\n",
    "x = sc.fit_transform(x)\n",
    "x"
   ]
  },
  {
   "cell_type": "markdown",
   "id": "e7234e78-42ef-4661-8b65-83beda8fd529",
   "metadata": {},
   "source": [
    "## Splitting the Dataset into Training and Testing Sets\n",
    "\n",
    "The dataset is split into training and testing sets, with 70% of the data used for training and 30% used for testing."
   ]
  },
  {
   "cell_type": "code",
   "execution_count": 28,
   "id": "c28c3b64-3fe8-48a6-9be8-3342a8681ef1",
   "metadata": {},
   "outputs": [
    {
     "data": {
      "text/plain": [
       "((3577, 21), (1533, 21))"
      ]
     },
     "execution_count": 28,
     "metadata": {},
     "output_type": "execute_result"
    }
   ],
   "source": [
    "X_train, X_test, y_train, y_test = train_test_split(x, y, test_size=0.3, random_state=7)\n",
    "X_train.shape, X_test.shape"
   ]
  },
  {
   "cell_type": "markdown",
   "id": "3accfaa9-78dd-4529-8b98-641732c70620",
   "metadata": {},
   "source": [
    "## Building Classifiers"
   ]
  },
  {
   "cell_type": "code",
   "execution_count": 30,
   "id": "3a4c9d25-85be-4669-97b8-ced27cc60ca1",
   "metadata": {},
   "outputs": [],
   "source": [
    "# Initialize the accuracy dictionary\n",
    "accuracy = {}"
   ]
  },
  {
   "cell_type": "markdown",
   "id": "f41d431a-def3-413f-a71e-1a54cac49ed7",
   "metadata": {},
   "source": [
    "#### Training a Logistic Regression Classifier"
   ]
  },
  {
   "cell_type": "code",
   "execution_count": 32,
   "id": "a8f2bf3c-ae10-4558-8853-e9fda7ce2c37",
   "metadata": {},
   "outputs": [
    {
     "data": {
      "text/html": [
       "<style>#sk-container-id-1 {color: black;background-color: white;}#sk-container-id-1 pre{padding: 0;}#sk-container-id-1 div.sk-toggleable {background-color: white;}#sk-container-id-1 label.sk-toggleable__label {cursor: pointer;display: block;width: 100%;margin-bottom: 0;padding: 0.3em;box-sizing: border-box;text-align: center;}#sk-container-id-1 label.sk-toggleable__label-arrow:before {content: \"▸\";float: left;margin-right: 0.25em;color: #696969;}#sk-container-id-1 label.sk-toggleable__label-arrow:hover:before {color: black;}#sk-container-id-1 div.sk-estimator:hover label.sk-toggleable__label-arrow:before {color: black;}#sk-container-id-1 div.sk-toggleable__content {max-height: 0;max-width: 0;overflow: hidden;text-align: left;background-color: #f0f8ff;}#sk-container-id-1 div.sk-toggleable__content pre {margin: 0.2em;color: black;border-radius: 0.25em;background-color: #f0f8ff;}#sk-container-id-1 input.sk-toggleable__control:checked~div.sk-toggleable__content {max-height: 200px;max-width: 100%;overflow: auto;}#sk-container-id-1 input.sk-toggleable__control:checked~label.sk-toggleable__label-arrow:before {content: \"▾\";}#sk-container-id-1 div.sk-estimator input.sk-toggleable__control:checked~label.sk-toggleable__label {background-color: #d4ebff;}#sk-container-id-1 div.sk-label input.sk-toggleable__control:checked~label.sk-toggleable__label {background-color: #d4ebff;}#sk-container-id-1 input.sk-hidden--visually {border: 0;clip: rect(1px 1px 1px 1px);clip: rect(1px, 1px, 1px, 1px);height: 1px;margin: -1px;overflow: hidden;padding: 0;position: absolute;width: 1px;}#sk-container-id-1 div.sk-estimator {font-family: monospace;background-color: #f0f8ff;border: 1px dotted black;border-radius: 0.25em;box-sizing: border-box;margin-bottom: 0.5em;}#sk-container-id-1 div.sk-estimator:hover {background-color: #d4ebff;}#sk-container-id-1 div.sk-parallel-item::after {content: \"\";width: 100%;border-bottom: 1px solid gray;flex-grow: 1;}#sk-container-id-1 div.sk-label:hover label.sk-toggleable__label {background-color: #d4ebff;}#sk-container-id-1 div.sk-serial::before {content: \"\";position: absolute;border-left: 1px solid gray;box-sizing: border-box;top: 0;bottom: 0;left: 50%;z-index: 0;}#sk-container-id-1 div.sk-serial {display: flex;flex-direction: column;align-items: center;background-color: white;padding-right: 0.2em;padding-left: 0.2em;position: relative;}#sk-container-id-1 div.sk-item {position: relative;z-index: 1;}#sk-container-id-1 div.sk-parallel {display: flex;align-items: stretch;justify-content: center;background-color: white;position: relative;}#sk-container-id-1 div.sk-item::before, #sk-container-id-1 div.sk-parallel-item::before {content: \"\";position: absolute;border-left: 1px solid gray;box-sizing: border-box;top: 0;bottom: 0;left: 50%;z-index: -1;}#sk-container-id-1 div.sk-parallel-item {display: flex;flex-direction: column;z-index: 1;position: relative;background-color: white;}#sk-container-id-1 div.sk-parallel-item:first-child::after {align-self: flex-end;width: 50%;}#sk-container-id-1 div.sk-parallel-item:last-child::after {align-self: flex-start;width: 50%;}#sk-container-id-1 div.sk-parallel-item:only-child::after {width: 0;}#sk-container-id-1 div.sk-dashed-wrapped {border: 1px dashed gray;margin: 0 0.4em 0.5em 0.4em;box-sizing: border-box;padding-bottom: 0.4em;background-color: white;}#sk-container-id-1 div.sk-label label {font-family: monospace;font-weight: bold;display: inline-block;line-height: 1.2em;}#sk-container-id-1 div.sk-label-container {text-align: center;}#sk-container-id-1 div.sk-container {/* jupyter's `normalize.less` sets `[hidden] { display: none; }` but bootstrap.min.css set `[hidden] { display: none !important; }` so we also need the `!important` here to be able to override the default hidden behavior on the sphinx rendered scikit-learn.org. See: https://github.com/scikit-learn/scikit-learn/issues/21755 */display: inline-block !important;position: relative;}#sk-container-id-1 div.sk-text-repr-fallback {display: none;}</style><div id=\"sk-container-id-1\" class=\"sk-top-container\"><div class=\"sk-text-repr-fallback\"><pre>LogisticRegression(max_iter=200)</pre><b>In a Jupyter environment, please rerun this cell to show the HTML representation or trust the notebook. <br />On GitHub, the HTML representation is unable to render, please try loading this page with nbviewer.org.</b></div><div class=\"sk-container\" hidden><div class=\"sk-item\"><div class=\"sk-estimator sk-toggleable\"><input class=\"sk-toggleable__control sk-hidden--visually\" id=\"sk-estimator-id-1\" type=\"checkbox\" checked><label for=\"sk-estimator-id-1\" class=\"sk-toggleable__label sk-toggleable__label-arrow\">LogisticRegression</label><div class=\"sk-toggleable__content\"><pre>LogisticRegression(max_iter=200)</pre></div></div></div></div></div>"
      ],
      "text/plain": [
       "LogisticRegression(max_iter=200)"
      ]
     },
     "execution_count": 32,
     "metadata": {},
     "output_type": "execute_result"
    }
   ],
   "source": [
    "lr = LogisticRegression(max_iter=200)\n",
    "lr.fit(X_train, y_train)"
   ]
  },
  {
   "cell_type": "markdown",
   "id": "df007d58-7130-4e5b-bcc1-c009bdd5861a",
   "metadata": {},
   "source": [
    "#### Predict using the logistic regression model"
   ]
  },
  {
   "cell_type": "code",
   "execution_count": 34,
   "id": "d10cb58f-b987-4fdc-8fed-959466d1d115",
   "metadata": {},
   "outputs": [
    {
     "name": "stdout",
     "output_type": "stream",
     "text": [
      "0.9471624266144814\n"
     ]
    }
   ],
   "source": [
    "y_pred1 = lr.predict(X_test)\n",
    "print(accuracy_score(y_test, y_pred1))\n"
   ]
  },
  {
   "cell_type": "markdown",
   "id": "10a798ee-a67d-42a9-ad87-415b364b1514",
   "metadata": {},
   "source": [
    "The accuracy score of 0.947 indicates that the model is performing well, with a high percentage of correct predictions. The model correctly predicted 94.7% of the test cases."
   ]
  },
  {
   "cell_type": "markdown",
   "id": "485394fa-fcff-4115-a9f9-690cbdcdc8da",
   "metadata": {},
   "source": [
    "####  Confusion Matrix"
   ]
  },
  {
   "cell_type": "code",
   "execution_count": 37,
   "id": "1947abea-15a2-4d88-a47b-b5107c801b24",
   "metadata": {},
   "outputs": [
    {
     "data": {
      "text/plain": [
       "<Axes: >"
      ]
     },
     "execution_count": 37,
     "metadata": {},
     "output_type": "execute_result"
    },
    {
     "data": {
      "image/png": "[encoded data removed]",
      "text/plain": [
       "<Figure size 800x500 with 2 Axes>"
      ]
     },
     "metadata": {},
     "output_type": "display_data"
    }
   ],
   "source": [
    "from sklearn.metrics import confusion_matrix\n",
    "# Creating the confusion matrix\n",
    "cm=confusion_matrix(y_test,y_pred1)\n",
    "# Visualizing the confusion matrix\n",
    "conf_matrix=pd.DataFrame(data=cm,columns=['Predicted:0','Predicted:1'],index=['Actual:0','Actual:1'])\n",
    "plt.figure(figsize = (8,5))\n",
    "sns.heatmap(conf_matrix, annot=True,fmt='d',cmap=\"YlGnBu\")"
   ]
  },
  {
   "cell_type": "markdown",
   "id": "b8295985-c0c1-46b6-b1a9-d6ece19b80ac",
   "metadata": {},
   "source": [
    "This matrix gives a detailed breakdown of the model's performance, which goes beyond just the accuracy score. It helps understand how well the model is doing in terms of correctly classifying both classes (stroke and no stroke)."
   ]
  },
  {
   "cell_type": "code",
   "execution_count": 39,
   "id": "3062e1b2-20fa-4cf3-8669-739db327924f",
   "metadata": {},
   "outputs": [
    {
     "name": "stdout",
     "output_type": "stream",
     "text": [
      "              precision    recall  f1-score   support\n",
      "\n",
      "           0       0.95      1.00      0.97      1452\n",
      "           1       0.00      0.00      0.00        81\n",
      "\n",
      "    accuracy                           0.95      1533\n",
      "   macro avg       0.47      0.50      0.49      1533\n",
      "weighted avg       0.90      0.95      0.92      1533\n",
      "\n"
     ]
    },
    {
     "name": "stderr",
     "output_type": "stream",
     "text": [
      "/opt/anaconda3/lib/python3.11/site-packages/sklearn/metrics/_classification.py:1344: UndefinedMetricWarning: Precision and F-score are ill-defined and being set to 0.0 in labels with no predicted samples. Use `zero_division` parameter to control this behavior.\n",
      "  _warn_prf(average, modifier, msg_start, len(result))\n",
      "/opt/anaconda3/lib/python3.11/site-packages/sklearn/metrics/_classification.py:1344: UndefinedMetricWarning: Precision and F-score are ill-defined and being set to 0.0 in labels with no predicted samples. Use `zero_division` parameter to control this behavior.\n",
      "  _warn_prf(average, modifier, msg_start, len(result))\n",
      "/opt/anaconda3/lib/python3.11/site-packages/sklearn/metrics/_classification.py:1344: UndefinedMetricWarning: Precision and F-score are ill-defined and being set to 0.0 in labels with no predicted samples. Use `zero_division` parameter to control this behavior.\n",
      "  _warn_prf(average, modifier, msg_start, len(result))\n"
     ]
    }
   ],
   "source": [
    "# Classification report\n",
    "print(classification_report(y_test, y_pred1))"
   ]
  },
  {
   "cell_type": "markdown",
   "id": "ba85e6d9-e033-4f3a-b0e4-44c5972db887",
   "metadata": {},
   "source": [
    "### Decision Tree Classifier"
   ]
  },
  {
   "cell_type": "code",
   "execution_count": 41,
   "id": "79a62dc0-0e0a-4938-b0e0-9b9bd073a7ae",
   "metadata": {},
   "outputs": [
    {
     "name": "stdout",
     "output_type": "stream",
     "text": [
      "0.9471624266144814\n"
     ]
    }
   ],
   "source": [
    "dtc = DecisionTreeClassifier(max_depth=3)\n",
    "dtc.fit(X_train, y_train)\n",
    "y_pred2 = dtc.predict(X_test)\n",
    "print(accuracy_score(y_test, y_pred2))\n",
    "accuracy[str(dtc)] = accuracy_score(y_test, y_pred2)*100"
   ]
  },
  {
   "cell_type": "code",
   "execution_count": 42,
   "id": "348131eb-49e7-453e-af48-963007b1c46e",
   "metadata": {},
   "outputs": [
    {
     "data": {
      "text/plain": [
       "<Axes: >"
      ]
     },
     "execution_count": 42,
     "metadata": {},
     "output_type": "execute_result"
    },
    {
     "data": {
      "image/png": "[encoded data removed]",
      "text/plain": [
       "<Figure size 800x500 with 2 Axes>"
      ]
     },
     "metadata": {},
     "output_type": "display_data"
    }
   ],
   "source": [
    "cm=confusion_matrix(y_test,y_pred2)\n",
    "\n",
    "conf_matrix=pd.DataFrame(data=cm,columns=['Predicted:0','Predicted:1'],index=['Actual:0','Actual:1'])\n",
    "plt.figure(figsize = (8,5))\n",
    "sns.heatmap(conf_matrix, annot=True,fmt='d',cmap=\"YlGnBu\")"
   ]
  },
  {
   "cell_type": "code",
   "execution_count": 43,
   "id": "6671945e-c17d-492c-b291-75631833c134",
   "metadata": {},
   "outputs": [
    {
     "name": "stdout",
     "output_type": "stream",
     "text": [
      "              precision    recall  f1-score   support\n",
      "\n",
      "           0       0.95      1.00      0.97      1452\n",
      "           1       0.00      0.00      0.00        81\n",
      "\n",
      "    accuracy                           0.95      1533\n",
      "   macro avg       0.47      0.50      0.49      1533\n",
      "weighted avg       0.90      0.95      0.92      1533\n",
      "\n"
     ]
    },
    {
     "name": "stderr",
     "output_type": "stream",
     "text": [
      "/opt/anaconda3/lib/python3.11/site-packages/sklearn/metrics/_classification.py:1344: UndefinedMetricWarning: Precision and F-score are ill-defined and being set to 0.0 in labels with no predicted samples. Use `zero_division` parameter to control this behavior.\n",
      "  _warn_prf(average, modifier, msg_start, len(result))\n",
      "/opt/anaconda3/lib/python3.11/site-packages/sklearn/metrics/_classification.py:1344: UndefinedMetricWarning: Precision and F-score are ill-defined and being set to 0.0 in labels with no predicted samples. Use `zero_division` parameter to control this behavior.\n",
      "  _warn_prf(average, modifier, msg_start, len(result))\n",
      "/opt/anaconda3/lib/python3.11/site-packages/sklearn/metrics/_classification.py:1344: UndefinedMetricWarning: Precision and F-score are ill-defined and being set to 0.0 in labels with no predicted samples. Use `zero_division` parameter to control this behavior.\n",
      "  _warn_prf(average, modifier, msg_start, len(result))\n"
     ]
    }
   ],
   "source": [
    "# Classification report\n",
    "print(classification_report(y_test, y_pred2))"
   ]
  },
  {
   "cell_type": "markdown",
   "id": "593f7963-e6a7-44e1-99f3-3fff424603f1",
   "metadata": {},
   "source": [
    "### Random Forest Classifier"
   ]
  },
  {
   "cell_type": "code",
   "execution_count": 45,
   "id": "ab460889-1c25-48e7-a1a2-9950ae2c0007",
   "metadata": {},
   "outputs": [
    {
     "name": "stdout",
     "output_type": "stream",
     "text": [
      "0.9471624266144814\n"
     ]
    }
   ],
   "source": [
    "rfc = RandomForestClassifier(max_depth=5)\n",
    "rfc.fit(X_train, y_train)\n",
    "y_pred3 = rfc.predict(X_test)\n",
    "print(accuracy_score(y_test, y_pred3))\n",
    "accuracy[str(rfc)] = accuracy_score(y_test, y_pred3)*100"
   ]
  },
  {
   "cell_type": "code",
   "execution_count": 46,
   "id": "0182eb90-7830-486f-85a7-07406e4bba02",
   "metadata": {},
   "outputs": [
    {
     "data": {
      "text/plain": [
       "<Axes: >"
      ]
     },
     "execution_count": 46,
     "metadata": {},
     "output_type": "execute_result"
    },
    {
     "data": {
      "image/png": "[encoded data removed]",
      "text/plain": [
       "<Figure size 800x500 with 2 Axes>"
      ]
     },
     "metadata": {},
     "output_type": "display_data"
    }
   ],
   "source": [
    "cm=confusion_matrix(y_test,y_pred3)\n",
    "\n",
    "conf_matrix=pd.DataFrame(data=cm,columns=['Predicted:0','Predicted:1'],index=['Actual:0','Actual:1'])\n",
    "plt.figure(figsize = (8,5))\n",
    "sns.heatmap(conf_matrix, annot=True,fmt='d',cmap=\"YlGnBu\")"
   ]
  },
  {
   "cell_type": "code",
   "execution_count": 47,
   "id": "8170ccc7-e457-403b-b089-6a1a1fe5f700",
   "metadata": {},
   "outputs": [
    {
     "name": "stdout",
     "output_type": "stream",
     "text": [
      "              precision    recall  f1-score   support\n",
      "\n",
      "           0       0.95      1.00      0.97      1452\n",
      "           1       0.00      0.00      0.00        81\n",
      "\n",
      "    accuracy                           0.95      1533\n",
      "   macro avg       0.47      0.50      0.49      1533\n",
      "weighted avg       0.90      0.95      0.92      1533\n",
      "\n"
     ]
    },
    {
     "name": "stderr",
     "output_type": "stream",
     "text": [
      "/opt/anaconda3/lib/python3.11/site-packages/sklearn/metrics/_classification.py:1344: UndefinedMetricWarning: Precision and F-score are ill-defined and being set to 0.0 in labels with no predicted samples. Use `zero_division` parameter to control this behavior.\n",
      "  _warn_prf(average, modifier, msg_start, len(result))\n",
      "/opt/anaconda3/lib/python3.11/site-packages/sklearn/metrics/_classification.py:1344: UndefinedMetricWarning: Precision and F-score are ill-defined and being set to 0.0 in labels with no predicted samples. Use `zero_division` parameter to control this behavior.\n",
      "  _warn_prf(average, modifier, msg_start, len(result))\n",
      "/opt/anaconda3/lib/python3.11/site-packages/sklearn/metrics/_classification.py:1344: UndefinedMetricWarning: Precision and F-score are ill-defined and being set to 0.0 in labels with no predicted samples. Use `zero_division` parameter to control this behavior.\n",
      "  _warn_prf(average, modifier, msg_start, len(result))\n"
     ]
    }
   ],
   "source": [
    "# Classification report\n",
    "print(classification_report(y_test, y_pred3))"
   ]
  },
  {
   "cell_type": "markdown",
   "id": "6de9c8d2-927a-44b3-af0a-f04813a13e37",
   "metadata": {},
   "source": [
    "### Gradient Boosting Classifier"
   ]
  },
  {
   "cell_type": "code",
   "execution_count": 49,
   "id": "9065a67e-4a31-4910-9c4f-17fe5d591a24",
   "metadata": {},
   "outputs": [
    {
     "name": "stdout",
     "output_type": "stream",
     "text": [
      "0.9471624266144814\n"
     ]
    }
   ],
   "source": [
    "gbc = GradientBoostingClassifier(n_estimators=100, learning_rate=0.1)\n",
    "gbc.fit(X_train, y_train)\n",
    "y_pred4 = gbc.predict(X_test)\n",
    "print(accuracy_score(y_test, y_pred4))\n",
    "accuracy[str(gbc)] = accuracy_score(y_test, y_pred4)*100"
   ]
  },
  {
   "cell_type": "code",
   "execution_count": 50,
   "id": "2bf2add5-9dc8-416e-9731-e8bcabf17e66",
   "metadata": {},
   "outputs": [
    {
     "data": {
      "text/plain": [
       "<Axes: >"
      ]
     },
     "execution_count": 50,
     "metadata": {},
     "output_type": "execute_result"
    },
    {
     "data": {
      "image/png": "[encoded data removed]",
      "text/plain": [
       "<Figure size 800x500 with 2 Axes>"
      ]
     },
     "metadata": {},
     "output_type": "display_data"
    }
   ],
   "source": [
    "cm=confusion_matrix(y_test,y_pred4)\n",
    "\n",
    "conf_matrix=pd.DataFrame(data=cm,columns=['Predicted:0','Predicted:1'],index=['Actual:0','Actual:1'])\n",
    "plt.figure(figsize = (8,5))\n",
    "sns.heatmap(conf_matrix, annot=True,fmt='d',cmap=\"YlGnBu\")"
   ]
  },
  {
   "cell_type": "code",
   "execution_count": 51,
   "id": "a6dc01e7-2d91-4589-a9a7-7413feed5253",
   "metadata": {},
   "outputs": [
    {
     "name": "stdout",
     "output_type": "stream",
     "text": [
      "              precision    recall  f1-score   support\n",
      "\n",
      "           0       0.95      1.00      0.97      1452\n",
      "           1       0.50      0.01      0.02        81\n",
      "\n",
      "    accuracy                           0.95      1533\n",
      "   macro avg       0.72      0.51      0.50      1533\n",
      "weighted avg       0.92      0.95      0.92      1533\n",
      "\n"
     ]
    }
   ],
   "source": [
    "print(classification_report(y_test, y_pred4))"
   ]
  },
  {
   "cell_type": "markdown",
   "id": "7211fe35-e4fb-4097-a9bb-fcc89ea1cbe3",
   "metadata": {},
   "source": [
    "### Conclusion"
   ]
  },
  {
   "cell_type": "markdown",
   "id": "e1b63f6c-b980-4162-ae3c-d789a326be59",
   "metadata": {},
   "source": [
    "In this project, I used four machine learning models to predict stroke risk: Logistic Regression, Decision Tree, Random Forest, and Gradient Boosting. Logistic Regression, a simple model for classifying two possible outcomes, didn’t predict stroke cases because of the imbalanced dataset, leading to 0 precision and recall for stroke prediction. The Decision Tree model, which splits the data into groups based on certain features, had the same problem and also failed to predict strokes. Random Forest, which combines multiple decision trees, still leaned heavily toward predicting no strokes.\n",
    "However, the Gradient Boosting model, which builds on mistakes from earlier models to improve accuracy, showed some improvement by correctly predicting a few stroke cases. It had a precision of 0.50, meaning half of its predictions for strokes were correct, but it only identified a tiny percentage of actual stroke cases, with a recall of 0.01. All the models had about the same accuracy (94.7%), but Gradient Boosting performed the best overall in predicting strokes, even though the imbalanced data made it challenging."
   ]
  },
  {
   "cell_type": "markdown",
   "id": "7ece052b-c09c-4a28-8bfc-a2285a8812de",
   "metadata": {},
   "source": [
    "### Applying SMOTE to handle class imbalance"
   ]
  },
  {
   "cell_type": "code",
   "execution_count": 54,
   "id": "38e43719-e7e7-4657-9437-844dba40ad85",
   "metadata": {},
   "outputs": [],
   "source": [
    "from imblearn.over_sampling import SMOTE"
   ]
  },
  {
   "cell_type": "code",
   "execution_count": 56,
   "id": "1aa46cd8-a4c0-4ac9-b5ad-7935ea37765c",
   "metadata": {},
   "outputs": [],
   "source": [
    "# Applying SMOTE to handle class imbalance\n",
    "smote = SMOTE(random_state=7)\n",
    "X_train_res, y_train_res = smote.fit_resample(X_train, y_train)\n"
   ]
  },
  {
   "cell_type": "code",
   "execution_count": 60,
   "id": "f48da11d-b833-4f75-8051-59e45d0f727c",
   "metadata": {},
   "outputs": [],
   "source": [
    "from sklearn.metrics import accuracy_score, classification_report, roc_auc_score, roc_curve"
   ]
  },
  {
   "cell_type": "code",
   "execution_count": 64,
   "id": "ba8b5dc1-1c79-4a8c-bc98-e9f5f45bf591",
   "metadata": {},
   "outputs": [],
   "source": [
    "# Logistic Regression with class_weight='balanced'\n",
    "lr = LogisticRegression(class_weight='balanced', max_iter=200)\n",
    "lr.fit(X_train_res, y_train_res)\n",
    "y_pred_lr = lr.predict(X_test)\n",
    "lr_accuracy = accuracy_score(y_test, y_pred_lr)\n",
    "lr_report = classification_report(y_test, y_pred_lr)\n",
    "lr_roc_auc = roc_auc_score(y_test, lr.predict_proba(X_test)[:, 1])"
   ]
  },
  {
   "cell_type": "code",
   "execution_count": 66,
   "id": "a0aaa300-1694-415e-b8bf-e4920b6cfcea",
   "metadata": {},
   "outputs": [],
   "source": [
    "# Confusion matrix for Logistic Regression\n",
    "cm_lr = confusion_matrix(y_test, y_pred_lr)\n",
    "conf_matrix_lr = pd.DataFrame(cm_lr, columns=['Predicted:0', 'Predicted:1'], index=['Actual:0', 'Actual:1'])\n"
   ]
  },
  {
   "cell_type": "code",
   "execution_count": 68,
   "id": "6d2fe735-3937-48b8-81e1-dbeec85ab565",
   "metadata": {},
   "outputs": [
    {
     "data": {
      "image/png": "[encoded data removed]",
      "text/plain": [
       "<Figure size 800x500 with 2 Axes>"
      ]
     },
     "metadata": {},
     "output_type": "display_data"
    }
   ],
   "source": [
    "# Plotting the confusion matrix\n",
    "plt.figure(figsize=(8,5))\n",
    "sns.heatmap(conf_matrix_lr, annot=True, fmt='d', cmap='YlGnBu')\n",
    "plt.title(\"Confusion Matrix for Logistic Regression\")\n",
    "plt.show()"
   ]
  },
  {
   "cell_type": "code",
   "execution_count": 70,
   "id": "b395f11a-c44b-4f63-aea2-8fe555c9725f",
   "metadata": {},
   "outputs": [],
   "source": [
    "# Decision Tree Classifier with class_weight='balanced'\n",
    "dtc = DecisionTreeClassifier(class_weight='balanced', max_depth=3)\n",
    "dtc.fit(X_train_res, y_train_res)\n",
    "y_pred_dtc = dtc.predict(X_test)\n",
    "dtc_accuracy = accuracy_score(y_test, y_pred_dtc)\n",
    "dtc_report = classification_report(y_test, y_pred_dtc)\n",
    "dtc_roc_auc = roc_auc_score(y_test, dtc.predict_proba(X_test)[:, 1])"
   ]
  },
  {
   "cell_type": "code",
   "execution_count": 82,
   "id": "124a6dd5-88b3-451f-abae-4344eb793cc9",
   "metadata": {},
   "outputs": [],
   "source": [
    "cm_dtc = confusion_matrix(y_test, y_pred_dtc)\n",
    "conf_matrix_dtc = pd.DataFrame(cm_dtc, columns=['Predicted:0', 'Predicted:1'], index=['Actual:0', 'Actual:1'])"
   ]
  },
  {
   "cell_type": "code",
   "execution_count": 92,
   "id": "7d80e4af-3a9d-4250-bafe-ba96c46a3ed5",
   "metadata": {},
   "outputs": [
    {
     "data": {
      "text/plain": [
       "Text(0.5, 1.0, 'Confusion Matrix for Decision Tree')"
      ]
     },
     "execution_count": 92,
     "metadata": {},
     "output_type": "execute_result"
    },
    {
     "data": {
      "image/png": "[encoded data removed]",
      "text/plain": [
       "<Figure size 800x500 with 2 Axes>"
      ]
     },
     "metadata": {},
     "output_type": "display_data"
    }
   ],
   "source": [
    "plt.figure(figsize=(8,5))\n",
    "sns.heatmap(conf_matrix_dtc, annot=True, fmt='d', cmap='YlGnBu')\n",
    "plt.title(\"Confusion Matrix for Decision Tree\")"
   ]
  },
  {
   "cell_type": "code",
   "execution_count": 72,
   "id": "56ecf1d9-cabc-468f-92bb-7bda49499070",
   "metadata": {},
   "outputs": [],
   "source": [
    "# Random Forest Classifier with class_weight='balanced'\n",
    "rfc = RandomForestClassifier(class_weight='balanced', max_depth=5, random_state=7)\n",
    "rfc.fit(X_train_res, y_train_res)\n",
    "y_pred_rfc = rfc.predict(X_test)\n",
    "rfc_accuracy = accuracy_score(y_test, y_pred_rfc)\n",
    "rfc_report = classification_report(y_test, y_pred_rfc)\n",
    "rfc_roc_auc = roc_auc_score(y_test, rfc.predict_proba(X_test)[:, 1])"
   ]
  },
  {
   "cell_type": "code",
   "execution_count": 86,
   "id": "340255ff-f124-448a-b6ed-1eea6a7232df",
   "metadata": {},
   "outputs": [],
   "source": [
    "cm_rfc = confusion_matrix(y_test, y_pred_rfc)\n",
    "conf_matrix_rfc = pd.DataFrame(cm_rfc, columns=['Predicted:0', 'Predicted:1'], index=['Actual:0', 'Actual:1'])"
   ]
  },
  {
   "cell_type": "code",
   "execution_count": 90,
   "id": "acb2633b-b0b7-4e08-aa1d-843d7fa9739e",
   "metadata": {},
   "outputs": [
    {
     "data": {
      "image/png": "[encoded data removed]",
      "text/plain": [
       "<Figure size 800x500 with 2 Axes>"
      ]
     },
     "metadata": {},
     "output_type": "display_data"
    }
   ],
   "source": [
    "plt.figure(figsize=(8,5))\n",
    "sns.heatmap(conf_matrix_rfc, annot=True, fmt='d', cmap='YlGnBu')\n",
    "plt.title(\"Confusion Matrix for Random Forest\")\n",
    "plt.show()"
   ]
  },
  {
   "cell_type": "code",
   "execution_count": 74,
   "id": "b2db4bff-fc68-49d8-86ed-02f8cc9cceae",
   "metadata": {},
   "outputs": [],
   "source": [
    "# Gradient Boosting Classifier\n",
    "gbc = GradientBoostingClassifier(n_estimators=100, learning_rate=0.1, random_state=7)\n",
    "gbc.fit(X_train_res, y_train_res)\n",
    "y_pred_gbc = gbc.predict(X_test)\n",
    "gbc_accuracy = accuracy_score(y_test, y_pred_gbc)\n",
    "gbc_report = classification_report(y_test, y_pred_gbc)\n",
    "gbc_roc_auc = roc_auc_score(y_test, gbc.predict_proba(X_test)[:, 1])"
   ]
  },
  {
   "cell_type": "code",
   "execution_count": 94,
   "id": "966b9514-0bcc-4544-ac6f-de3d5a13980e",
   "metadata": {},
   "outputs": [],
   "source": [
    "# Confusion matrix for Gradient Boosting\n",
    "cm_gbc = confusion_matrix(y_test, y_pred_gbc)\n",
    "conf_matrix_gbc = pd.DataFrame(cm_gbc, columns=['Predicted:0', 'Predicted:1'], index=['Actual:0', 'Actual:1'])"
   ]
  },
  {
   "cell_type": "code",
   "execution_count": 96,
   "id": "7d7eeaa1-59c4-4854-8c4f-8c63b069a339",
   "metadata": {},
   "outputs": [
    {
     "data": {
      "text/plain": [
       "Text(0.5, 1.0, 'Confusion Matrix for Gradient Boosting')"
      ]
     },
     "execution_count": 96,
     "metadata": {},
     "output_type": "execute_result"
    },
    {
     "data": {
      "image/png": "[encoded data removed]",
      "text/plain": [
       "<Figure size 800x500 with 2 Axes>"
      ]
     },
     "metadata": {},
     "output_type": "display_data"
    }
   ],
   "source": [
    "plt.figure(figsize=(8,5))\n",
    "sns.heatmap(conf_matrix_gbc, annot=True, fmt='d', cmap='YlGnBu')\n",
    "plt.title(\"Confusion Matrix for Gradient Boosting\")"
   ]
  },
  {
   "cell_type": "code",
   "execution_count": 76,
   "id": "c73c2337-6f1e-45ca-8205-56c8dd2c3fcf",
   "metadata": {},
   "outputs": [],
   "source": [
    "# Summary of model performances\n",
    "model_performance = pd.DataFrame({\n",
    "    'Model': ['Logistic Regression', 'Decision Tree', 'Random Forest', 'Gradient Boosting'],\n",
    "    'Accuracy': [lr_accuracy, dtc_accuracy, rfc_accuracy, gbc_accuracy],\n",
    "    'ROC AUC': [lr_roc_auc, dtc_roc_auc, rfc_roc_auc, gbc_roc_auc]\n",
    "})"
   ]
  },
  {
   "cell_type": "code",
   "execution_count": 80,
   "id": "1c97e14e-2fd2-4a79-b74e-a551e02ac069",
   "metadata": {},
   "outputs": [
    {
     "data": {
      "text/html": [
       "<div>\n",
       "<style scoped>\n",
       "    .dataframe tbody tr th:only-of-type {\n",
       "        vertical-align: middle;\n",
       "    }\n",
       "\n",
       "    .dataframe tbody tr th {\n",
       "        vertical-align: top;\n",
       "    }\n",
       "\n",
       "    .dataframe thead th {\n",
       "        text-align: right;\n",
       "    }\n",
       "</style>\n",
       "<table border=\"1\" class=\"dataframe\">\n",
       "  <thead>\n",
       "    <tr style=\"text-align: right;\">\n",
       "      <th></th>\n",
       "      <th>Model</th>\n",
       "      <th>Accuracy</th>\n",
       "      <th>ROC AUC</th>\n",
       "    </tr>\n",
       "  </thead>\n",
       "  <tbody>\n",
       "    <tr>\n",
       "      <th>0</th>\n",
       "      <td>Logistic Regression</td>\n",
       "      <td>0.737769</td>\n",
       "      <td>0.821583</td>\n",
       "    </tr>\n",
       "    <tr>\n",
       "      <th>1</th>\n",
       "      <td>Decision Tree</td>\n",
       "      <td>0.662753</td>\n",
       "      <td>0.793818</td>\n",
       "    </tr>\n",
       "    <tr>\n",
       "      <th>2</th>\n",
       "      <td>Random Forest</td>\n",
       "      <td>0.720157</td>\n",
       "      <td>0.792436</td>\n",
       "    </tr>\n",
       "    <tr>\n",
       "      <th>3</th>\n",
       "      <td>Gradient Boosting</td>\n",
       "      <td>0.875408</td>\n",
       "      <td>0.777901</td>\n",
       "    </tr>\n",
       "  </tbody>\n",
       "</table>\n",
       "</div>"
      ],
      "text/plain": [
       "                 Model  Accuracy   ROC AUC\n",
       "0  Logistic Regression  0.737769  0.821583\n",
       "1        Decision Tree  0.662753  0.793818\n",
       "2        Random Forest  0.720157  0.792436\n",
       "3    Gradient Boosting  0.875408  0.777901"
      ]
     },
     "metadata": {},
     "output_type": "display_data"
    }
   ],
   "source": [
    "import pandas as pd\n",
    "\n",
    "# Assuming model_performance is the DataFrame\n",
    "from IPython.display import display\n",
    "\n",
    "display(model_performance)\n"
   ]
  },
  {
   "cell_type": "markdown",
   "id": "3dfde57a-e4c1-4bf7-91b6-3f1e35ebf861",
   "metadata": {},
   "source": [
    "All models achieved high accuracy scores, around 94.7%, but more than accuracy alone was needed due to the imbalance in the dataset. SMOTE helped to oversample the minority class (stroke cases), creating a more balanced dataset. After applying SMOTE, I focused more on ROC-AUC and classification metrics like precision, recall, and F1-score, which provided a clearer picture of how well the models performed on stroke cases. While Gradient Boosting has the highest accuracy (87.54%), Logistic Regression has a better ROC AUC score (0.82), which is more critical when working with imbalanced datasets. Gradient Boosting is the best model if I prioritize accuracy, but it performs best if I prioritize ROC AUC: Logistic Regression. "
   ]
  }
 ],
 "metadata": {
  "kernelspec": {
   "display_name": "Python 3 (ipykernel)",
   "language": "python",
   "name": "python3"
  },
  "language_info": {
   "codemirror_mode": {
    "name": "ipython",
    "version": 3
   },
   "file_extension": ".py",
   "mimetype": "text/x-python",
   "name": "python",
   "nbconvert_exporter": "python",
   "pygments_lexer": "ipython3",
   "version": "3.11.7"
  }
 },
 "nbformat": 4,
 "nbformat_minor": 5
}
